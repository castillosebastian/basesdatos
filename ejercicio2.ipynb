{
 "cells": [
  {
   "cell_type": "markdown",
   "metadata": {},
   "source": [
    "# Tablas bases de datos"
   ]
  },
  {
   "cell_type": "code",
   "execution_count": 11,
   "metadata": {},
   "outputs": [
    {
     "data": {
      "text/plain": [
       "'fabrica.png'"
      ]
     },
     "execution_count": 11,
     "metadata": {},
     "output_type": "execute_result"
    }
   ],
   "source": [
    "from graphviz import Source\n",
    "# Your DOT code as a string\n",
    "dot_code = \"\"\"\n",
    "digraph fabrica {\n",
    "    label=\"Fábrica\";\n",
    "    labelloc=\"t\"; // Position the label at the top\n",
    "    fontsize=24;  // Set font size for the title\n",
    "    \n",
    "    node [shape=record];\n",
    "    \n",
    "    Taller [label=\"{Taller|código (PK) : int\\l descripción : text\\l operario_responsable_DNI (FK) : int\\l}\"];\n",
    "    Célula [label=\"{Célula|código (PK) : int\\l nombre : text\\l taller_código (FK) : int\\l}\"];\n",
    "    Máquina [label=\"{Máquina|código (PK) : int\\l descripción : text\\l modelo : text\\l célula_código (FK) : int\\l}\"];\n",
    "    Operario [label=\"{Operario|DNI (PK) : text\\l nombre : text\\l domicilio : text\\l teléfonos : text\\l taller_código (FK) : int\\l célula_código (FK) : int\\l}\"];\n",
    "    OperarioResponsable [label=\"{Operario Responsable|DNI (PK) : text\\l nombre : text\\l domicilio : text\\l teléfonos : text\\l taller_código (FK) : int\\l}\"];\n",
    "    \n",
    "    Taller -> Célula [label=\"tiene (1,n)\"];\n",
    "    Célula -> Taller [label=\"pertenece a (1,1)\"];\n",
    "    Célula -> Máquina [label=\"contiene (1,n)\"];\n",
    "    Taller -> Operario [label=\"tiene asignado (1,n)\"];\n",
    "    Célula -> Operario [label=\"tiene asignado (1,n)\"];\n",
    "    Taller -> OperarioResponsable [label=\"tiene asignado (0,1)\"];\n",
    "}\n",
    "\"\"\"\n",
    "\n",
    "# Create a Source object from the DOT code\n",
    "src = Source(dot_code)\n",
    "\n",
    "# Render the graph to a file (e.g., fabrica.png)\n",
    "src.render('fabrica', format='png')"
   ]
  },
  {
   "cell_type": "code",
   "execution_count": 12,
   "metadata": {},
   "outputs": [
    {
     "data": {
      "text/plain": [
       "'zapateria.png'"
      ]
     },
     "execution_count": 12,
     "metadata": {},
     "output_type": "execute_result"
    }
   ],
   "source": [
    "zapateria = \"\"\"\n",
    "digraph zapateria {\n",
    "    label=\"Zapatería\";\n",
    "    labelloc=\"t\";\n",
    "    fontsize=24;\n",
    "    \n",
    "    node [shape=record];\n",
    "    \n",
    "    Zapato [label=\"{Zapato|código (PK) : int\\l estilo : text\\l color : text\\l medida : int\\l stock : int\\l proveedor_código (FK) : int\\l}\"];\n",
    "    Proveedor [label=\"{Proveedor|código (PK) : int\\l nombre : text\\l contacto : text\\l}\"];\n",
    "    \"Tipo de Venta\" [label=\"{Tipo de Venta|código (PK) : int\\l descripción : text\\l}\"];\n",
    "    Cliente [label=\"{Cliente|código (PK) : int\\l nombre : text\\l dirección : text\\l teléfono : text\\l intereses de compra : text\\l}\"];\n",
    "    Venta [label=\"{Venta|código (PK) : int\\l fecha : date\\l cantidad : int\\l tipo : text\\l zapato_código (FK) : int\\l tipo_de_venta_código (FK) : int\\l cliente_código (FK) : int\\l vendedor_código (FK) : int\\l}\"];\n",
    "    Vendedor [label=\"{Vendedor|código (PK) : int\\l nombre : text\\l porcentaje de comisión : float\\l}\"];\n",
    "    \n",
    "    Zapato -> Proveedor [label=\"es suministrado por (1,1)\"];\n",
    "    Proveedor -> Zapato [label=\"suministra (1,n)\"];\n",
    "    Venta -> \"Tipo de Venta\" [label=\"está asociada a (1,1)\"];\n",
    "    Cliente -> Venta [label=\"realiza (1,n)\"];\n",
    "    Venta -> Zapato [label=\"está asociada a (1,1)\"];\n",
    "    Venta -> Vendedor [label=\"es acreditada a (1,1)\"];\n",
    "}\n",
    "\"\"\"\n",
    "# Create a Source object from the DOT code\n",
    "src = Source(zapateria)\n",
    "\n",
    "# Render the graph to a file (e.g., fabrica.png)\n",
    "src.render('zapateria', format='png')\n"
   ]
  },
  {
   "cell_type": "code",
   "execution_count": 15,
   "metadata": {},
   "outputs": [
    {
     "data": {
      "text/plain": [
       "'galeria.png'"
      ]
     },
     "execution_count": 15,
     "metadata": {},
     "output_type": "execute_result"
    }
   ],
   "source": [
    "galeria = \"\"\"\n",
    "digraph gallery {\n",
    "    label=\"Galería\";\n",
    "    labelloc=\"t\";\n",
    "    fontsize=24;\n",
    "    \n",
    "    node [shape=record];\n",
    "    \n",
    "    Artista [label=\"{Artista|DNI (PK) : int\\l nombre : text\\l biografía : text\\l}\"];\n",
    "    \"Obra de Arte\" [label=\"{Obra de Arte|código (PK) : int\\l nombre : text\\l estilo : text\\l color : text\\l medida : int\\l stock : int\\l fecha : date\\l artista_DNI (FK) : int\\l cliente_nombre (FK) : text\\l vendedor_DNI (FK) : int\\l}\"];\n",
    "    Cliente [label=\"{Cliente|nombre (PK) : text\\l dirección : text\\l teléfono : text\\l}\"];\n",
    "    Venta [label=\"{Venta|fecha (PK) : date\\l cantidad : int\\l vendedor_DNI (FK) : int\\l cliente_nombre (FK) : text\\l}\"];\n",
    "    Vendedor [label=\"{Vendedor|DNI (PK) : int\\l nombre : text\\l comisión : float\\l}\"];\n",
    "    \n",
    "    Artista -> \"Obra de Arte\" [label=\"crea (1,n)\"];\n",
    "    \"Obra de Arte\" -> Artista [label=\"es creada por (1,1)\"];\n",
    "    Cliente -> \"Obra de Arte\" [label=\"compra (0,n)\"];\n",
    "    \"Obra de Arte\" -> Cliente [label=\"es comprada por (0,1)\"];\n",
    "    Vendedor -> \"Obra de Arte\" [label=\"vende (1,n)\"];\n",
    "    \"Obra de Arte\" -> Vendedor [label=\"es vendida por (1,1)\"];\n",
    "    Cliente -> Vendedor [label=\"tiene intereses atendidos por (1,1)\"];\n",
    "    Vendedor -> Venta [label=\"realiza (1,n)\"];\n",
    "    Cliente -> Venta [label=\"realiza (1,n)\"];\n",
    "}\n",
    "\n",
    "\n",
    "\"\"\"\n",
    "# Create a Source object from the DOT code\n",
    "src = Source(galeria)\n",
    "\n",
    "# Render the graph to a file (e.g., fabrica.png)\n",
    "src.render('galeria', format='png')\n"
   ]
  },
  {
   "cell_type": "code",
   "execution_count": 16,
   "metadata": {},
   "outputs": [
    {
     "data": {
      "text/plain": [
       "'hospital.png'"
      ]
     },
     "execution_count": 16,
     "metadata": {},
     "output_type": "execute_result"
    }
   ],
   "source": [
    "hospital = \"\"\"\n",
    "digraph hospital {\n",
    "    label=\"Hospital\";\n",
    "    labelloc=\"t\";\n",
    "    fontsize=24;\n",
    "\n",
    "    node [shape=record];\n",
    "\n",
    "    Hospital [label=\"{Hospital|código (PK) : int\\l nombre : text\\l dirección : text\\l teléfono : text\\l cantidad de camas : int\\l}\"];\n",
    "    Sala [label=\"{Sala|código (PK) : int\\l nombre : text\\l cantidad de camas : int\\l hospital_código (FK) : int\\l}\"];\n",
    "    Médico [label=\"{Médico|DNI (PK) : int\\l nombre : text\\l especialidad : text\\l hospital_código (FK) : int\\l}\"];\n",
    "    Laboratorio [label=\"{Laboratorio|código (PK) : int\\l nombre : text\\l dirección : text\\l teléfono : text\\l descripción de servicios : text\\l fecha de servicio : date\\l hospital_código (FK) : int\\l}\"];\n",
    "    Paciente [label=\"{Paciente|DNI (PK) : int\\l número de registro : int\\l número de cama : int\\l nombre : text\\l dirección : text\\l fecha de nacimiento : date\\l sexo : text\\l sala_código (FK) : int\\l médico_DNI (FK) : int\\l}\"];\n",
    "    Diagnóstico [label=\"{Diagnóstico|código (PK) : int\\l tipo : text\\l complicaciones : text\\l fecha : date\\l paciente_DNI (FK) : int\\l}\"];\n",
    "\n",
    "    Hospital -> Sala [label=\"tiene (1,n)\"];\n",
    "    Sala -> Hospital [label=\"pertenece a (1,1)\"];\n",
    "    Médico -> Hospital [label=\"trabaja en (1,1)\"];\n",
    "    Hospital -> Laboratorio [label=\"trabaja con (1,n)\"];\n",
    "    Laboratorio -> Hospital [label=\"presta servicios a (1,n)\"];\n",
    "    Paciente -> Sala [label=\"está internado en (0,1)\"];\n",
    "    Paciente -> Médico [label=\"es atendido por (1,n)\"];\n",
    "    Médico -> Paciente [label=\"atiende a (1,n)\"];\n",
    "    Paciente -> Diagnóstico [label=\"tiene (1,n)\"];\n",
    "}\n",
    "\"\"\"\n",
    "# Create a Source object from the DOT code\n",
    "src = Source(hospital)\n",
    "\n",
    "# Render the graph to a file (e.g., fabrica.png)\n",
    "src.render('hospital', format='png')\n",
    "\n"
   ]
  }
 ],
 "metadata": {
  "kernelspec": {
   "display_name": ".basesdatos",
   "language": "python",
   "name": ".basesdatos"
  },
  "language_info": {
   "codemirror_mode": {
    "name": "ipython",
    "version": 3
   },
   "file_extension": ".py",
   "mimetype": "text/x-python",
   "name": "python",
   "nbconvert_exporter": "python",
   "pygments_lexer": "ipython3",
   "version": "3.9.13"
  },
  "orig_nbformat": 4
 },
 "nbformat": 4,
 "nbformat_minor": 2
}
